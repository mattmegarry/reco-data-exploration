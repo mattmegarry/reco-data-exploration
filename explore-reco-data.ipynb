{
 "cells": [
  {
   "cell_type": "code",
   "execution_count": 6,
   "metadata": {},
   "outputs": [],
   "source": [
    "import matplotlib.pyplot as plt\n",
    "import numpy as np\n",
    "import random\n",
    "import torch\n",
    "import torch.nn as nn\n",
    "import torch.nn.functional as F\n",
    "import torch.utils.data as data\n",
    "import torchvision.datasets as datasets\n",
    "import torchvision.transforms as transforms\n",
    "import tqdm\n",
    "import psycopg2\n",
    "import pandas as pd"
   ]
  },
  {
   "cell_type": "code",
   "execution_count": 7,
   "metadata": {},
   "outputs": [],
   "source": [
    "conn = psycopg2.connect(\"host=localhost dbname=gradient_local user=postgres\") \n",
    "cursor = conn.cursor()\n",
    "\n",
    "get_items_query = \"SELECT * FROM items;\"\n",
    "get_users_query = \"SELECT * FROM users;\"\n",
    "get_fct_query = \"SET constraint_exclusion = on; SELECT * FROM fct_hourly_metric;\""
   ]
  },
  {
   "cell_type": "code",
   "execution_count": 8,
   "metadata": {},
   "outputs": [
    {
     "name": "stderr",
     "output_type": "stream",
     "text": [
      "/var/folders/0y/d_717f6d3wv7j3stmqzgt9_c0000gp/T/ipykernel_65740/3059927008.py:1: UserWarning: pandas only supports SQLAlchemy connectable (engine/connection) or database string URI or sqlite3 DBAPI2 connection. Other DBAPI2 objects are not tested. Please consider using SQLAlchemy.\n",
      "  df = pd.read_sql(get_items_query, conn)\n"
     ]
    },
    {
     "data": {
      "text/html": [
       "<div>\n",
       "<style scoped>\n",
       "    .dataframe tbody tr th:only-of-type {\n",
       "        vertical-align: middle;\n",
       "    }\n",
       "\n",
       "    .dataframe tbody tr th {\n",
       "        vertical-align: top;\n",
       "    }\n",
       "\n",
       "    .dataframe thead th {\n",
       "        text-align: right;\n",
       "    }\n",
       "</style>\n",
       "<table border=\"1\" class=\"dataframe\">\n",
       "  <thead>\n",
       "    <tr style=\"text-align: right;\">\n",
       "      <th></th>\n",
       "      <th>item_key</th>\n",
       "      <th>created_at</th>\n",
       "      <th>user_id</th>\n",
       "      <th>bucket_key</th>\n",
       "      <th>type</th>\n",
       "    </tr>\n",
       "  </thead>\n",
       "  <tbody>\n",
       "    <tr>\n",
       "      <th>0</th>\n",
       "      <td>d6a9a727-3c39-41bc-a46a-1027a85a0fac</td>\n",
       "      <td>2023-07-14 14:35:37</td>\n",
       "      <td>24549</td>\n",
       "      <td>tiny-texts-jk9apq</td>\n",
       "      <td>txt</td>\n",
       "    </tr>\n",
       "    <tr>\n",
       "      <th>1</th>\n",
       "      <td>24153e9f-c757-448a-b854-ade8b23feff5</td>\n",
       "      <td>2023-07-14 14:35:25</td>\n",
       "      <td>32109</td>\n",
       "      <td>tiny-images-jk9apq</td>\n",
       "      <td>img</td>\n",
       "    </tr>\n",
       "    <tr>\n",
       "      <th>2</th>\n",
       "      <td>5921d0f8-8989-495d-bf28-247743063659</td>\n",
       "      <td>2023-07-14 14:33:48</td>\n",
       "      <td>33961</td>\n",
       "      <td>tiny-texts-jk9apq</td>\n",
       "      <td>txt</td>\n",
       "    </tr>\n",
       "    <tr>\n",
       "      <th>3</th>\n",
       "      <td>fdc57820-5a49-4467-b8ce-44e814948d0e</td>\n",
       "      <td>2023-07-14 14:31:47</td>\n",
       "      <td>2295</td>\n",
       "      <td>tiny-texts-jk9apq</td>\n",
       "      <td>txt</td>\n",
       "    </tr>\n",
       "    <tr>\n",
       "      <th>4</th>\n",
       "      <td>e14c4b33-b1e5-42a4-920d-b1c10a5a5545</td>\n",
       "      <td>2023-07-14 14:31:02</td>\n",
       "      <td>26137</td>\n",
       "      <td>tiny-images-jk9apq</td>\n",
       "      <td>img</td>\n",
       "    </tr>\n",
       "  </tbody>\n",
       "</table>\n",
       "</div>"
      ],
      "text/plain": [
       "                               item_key          created_at  user_id  \\\n",
       "0  d6a9a727-3c39-41bc-a46a-1027a85a0fac 2023-07-14 14:35:37    24549   \n",
       "1  24153e9f-c757-448a-b854-ade8b23feff5 2023-07-14 14:35:25    32109   \n",
       "2  5921d0f8-8989-495d-bf28-247743063659 2023-07-14 14:33:48    33961   \n",
       "3  fdc57820-5a49-4467-b8ce-44e814948d0e 2023-07-14 14:31:47     2295   \n",
       "4  e14c4b33-b1e5-42a4-920d-b1c10a5a5545 2023-07-14 14:31:02    26137   \n",
       "\n",
       "           bucket_key type  \n",
       "0   tiny-texts-jk9apq  txt  \n",
       "1  tiny-images-jk9apq  img  \n",
       "2   tiny-texts-jk9apq  txt  \n",
       "3   tiny-texts-jk9apq  txt  \n",
       "4  tiny-images-jk9apq  img  "
      ]
     },
     "execution_count": 8,
     "metadata": {},
     "output_type": "execute_result"
    }
   ],
   "source": [
    "df = pd.read_sql(get_items_query, conn)\n",
    "df.head()"
   ]
  }
 ],
 "metadata": {
  "kernelspec": {
   "display_name": "Python 3 (ipykernel)",
   "language": "python",
   "name": "python3"
  },
  "language_info": {
   "codemirror_mode": {
    "name": "ipython",
    "version": 3
   },
   "file_extension": ".py",
   "mimetype": "text/x-python",
   "name": "python",
   "nbconvert_exporter": "python",
   "pygments_lexer": "ipython3",
   "version": "3.11.3"
  }
 },
 "nbformat": 4,
 "nbformat_minor": 4
}
