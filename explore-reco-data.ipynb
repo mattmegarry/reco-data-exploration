{
 "cells": [
  {
   "cell_type": "code",
   "execution_count": 139,
   "metadata": {},
   "outputs": [],
   "source": [
    "import matplotlib.pyplot as plt\n",
    "import numpy as np\n",
    "import random\n",
    "import torch\n",
    "import torch.nn as nn\n",
    "import torch.nn.functional as F\n",
    "import torch.utils.data as data\n",
    "import torchvision.datasets as datasets\n",
    "import torchvision.transforms as transforms\n",
    "import tqdm\n",
    "import psycopg2\n",
    "import sqlalchemy\n",
    "import pandas as pd "
   ]
  },
  {
   "cell_type": "code",
   "execution_count": 140,
   "metadata": {},
   "outputs": [],
   "source": [
    "# conn = psycopg2.connect(\"host=localhost dbname=gradient_local user=postgres\") \n",
    "# cursor = conn.cursor()\n",
    "\n",
    "db_uri = \"postgresql://postgres:@localhost/gradient_local\"\n",
    "\n",
    "get_items_query = \"SELECT * FROM items;\"\n",
    "get_users_query = \"SELECT * FROM users;\"\n",
    "get_fct_query = \"SET constraint_exclusion = on; SELECT * FROM fct_hourly_metric;\""
   ]
  },
  {
   "cell_type": "code",
   "execution_count": 141,
   "metadata": {},
   "outputs": [
    {
     "data": {
      "text/html": [
       "<div>\n",
       "<style scoped>\n",
       "    .dataframe tbody tr th:only-of-type {\n",
       "        vertical-align: middle;\n",
       "    }\n",
       "\n",
       "    .dataframe tbody tr th {\n",
       "        vertical-align: top;\n",
       "    }\n",
       "\n",
       "    .dataframe thead th {\n",
       "        text-align: right;\n",
       "    }\n",
       "</style>\n",
       "<table border=\"1\" class=\"dataframe\">\n",
       "  <thead>\n",
       "    <tr style=\"text-align: right;\">\n",
       "      <th></th>\n",
       "      <th>item_key</th>\n",
       "      <th>created_at</th>\n",
       "      <th>user_id</th>\n",
       "      <th>bucket_key</th>\n",
       "      <th>type</th>\n",
       "    </tr>\n",
       "  </thead>\n",
       "  <tbody>\n",
       "    <tr>\n",
       "      <th>0</th>\n",
       "      <td>d6a9a727-3c39-41bc-a46a-1027a85a0fac</td>\n",
       "      <td>2023-07-14 14:35:37</td>\n",
       "      <td>24549</td>\n",
       "      <td>tiny-texts-jk9apq</td>\n",
       "      <td>txt</td>\n",
       "    </tr>\n",
       "    <tr>\n",
       "      <th>1</th>\n",
       "      <td>24153e9f-c757-448a-b854-ade8b23feff5</td>\n",
       "      <td>2023-07-14 14:35:25</td>\n",
       "      <td>32109</td>\n",
       "      <td>tiny-images-jk9apq</td>\n",
       "      <td>img</td>\n",
       "    </tr>\n",
       "    <tr>\n",
       "      <th>2</th>\n",
       "      <td>5921d0f8-8989-495d-bf28-247743063659</td>\n",
       "      <td>2023-07-14 14:33:48</td>\n",
       "      <td>33961</td>\n",
       "      <td>tiny-texts-jk9apq</td>\n",
       "      <td>txt</td>\n",
       "    </tr>\n",
       "    <tr>\n",
       "      <th>3</th>\n",
       "      <td>fdc57820-5a49-4467-b8ce-44e814948d0e</td>\n",
       "      <td>2023-07-14 14:31:47</td>\n",
       "      <td>2295</td>\n",
       "      <td>tiny-texts-jk9apq</td>\n",
       "      <td>txt</td>\n",
       "    </tr>\n",
       "    <tr>\n",
       "      <th>4</th>\n",
       "      <td>e14c4b33-b1e5-42a4-920d-b1c10a5a5545</td>\n",
       "      <td>2023-07-14 14:31:02</td>\n",
       "      <td>26137</td>\n",
       "      <td>tiny-images-jk9apq</td>\n",
       "      <td>img</td>\n",
       "    </tr>\n",
       "  </tbody>\n",
       "</table>\n",
       "</div>"
      ],
      "text/plain": [
       "                               item_key          created_at  user_id  \\\n",
       "0  d6a9a727-3c39-41bc-a46a-1027a85a0fac 2023-07-14 14:35:37    24549   \n",
       "1  24153e9f-c757-448a-b854-ade8b23feff5 2023-07-14 14:35:25    32109   \n",
       "2  5921d0f8-8989-495d-bf28-247743063659 2023-07-14 14:33:48    33961   \n",
       "3  fdc57820-5a49-4467-b8ce-44e814948d0e 2023-07-14 14:31:47     2295   \n",
       "4  e14c4b33-b1e5-42a4-920d-b1c10a5a5545 2023-07-14 14:31:02    26137   \n",
       "\n",
       "           bucket_key type  \n",
       "0   tiny-texts-jk9apq  txt  \n",
       "1  tiny-images-jk9apq  img  \n",
       "2   tiny-texts-jk9apq  txt  \n",
       "3   tiny-texts-jk9apq  txt  \n",
       "4  tiny-images-jk9apq  img  "
      ]
     },
     "execution_count": 141,
     "metadata": {},
     "output_type": "execute_result"
    }
   ],
   "source": [
    "items_df = pd.read_sql(get_items_query, db_uri)\n",
    "items_df.head()"
   ]
  },
  {
   "cell_type": "code",
   "execution_count": 142,
   "metadata": {},
   "outputs": [
    {
     "data": {
      "text/html": [
       "<div>\n",
       "<style scoped>\n",
       "    .dataframe tbody tr th:only-of-type {\n",
       "        vertical-align: middle;\n",
       "    }\n",
       "\n",
       "    .dataframe tbody tr th {\n",
       "        vertical-align: top;\n",
       "    }\n",
       "\n",
       "    .dataframe thead th {\n",
       "        text-align: right;\n",
       "    }\n",
       "</style>\n",
       "<table border=\"1\" class=\"dataframe\">\n",
       "  <thead>\n",
       "    <tr style=\"text-align: right;\">\n",
       "      <th></th>\n",
       "      <th>id</th>\n",
       "      <th>gender</th>\n",
       "      <th>country</th>\n",
       "      <th>age</th>\n",
       "    </tr>\n",
       "  </thead>\n",
       "  <tbody>\n",
       "    <tr>\n",
       "      <th>0</th>\n",
       "      <td>1</td>\n",
       "      <td>male</td>\n",
       "      <td>AlgoBay</td>\n",
       "      <td>40.0</td>\n",
       "    </tr>\n",
       "    <tr>\n",
       "      <th>1</th>\n",
       "      <td>2</td>\n",
       "      <td>female</td>\n",
       "      <td>GraphTown</td>\n",
       "      <td>19.0</td>\n",
       "    </tr>\n",
       "    <tr>\n",
       "      <th>2</th>\n",
       "      <td>3</td>\n",
       "      <td>female</td>\n",
       "      <td>BayesianBourg</td>\n",
       "      <td>7.0</td>\n",
       "    </tr>\n",
       "    <tr>\n",
       "      <th>3</th>\n",
       "      <td>4</td>\n",
       "      <td>male</td>\n",
       "      <td>AdaLove</td>\n",
       "      <td>21.0</td>\n",
       "    </tr>\n",
       "    <tr>\n",
       "      <th>4</th>\n",
       "      <td>36</td>\n",
       "      <td>male</td>\n",
       "      <td>AlgoBay</td>\n",
       "      <td>26.0</td>\n",
       "    </tr>\n",
       "  </tbody>\n",
       "</table>\n",
       "</div>"
      ],
      "text/plain": [
       "   id  gender        country   age\n",
       "0   1    male        AlgoBay  40.0\n",
       "1   2  female      GraphTown  19.0\n",
       "2   3  female  BayesianBourg   7.0\n",
       "3   4    male        AdaLove  21.0\n",
       "4  36    male        AlgoBay  26.0"
      ]
     },
     "execution_count": 142,
     "metadata": {},
     "output_type": "execute_result"
    }
   ],
   "source": [
    "users_df = pd.read_sql(get_users_query, db_uri)\n",
    "users_df.head()"
   ]
  },
  {
   "cell_type": "code",
   "execution_count": 143,
   "metadata": {},
   "outputs": [
    {
     "data": {
      "text/html": [
       "<div>\n",
       "<style scoped>\n",
       "    .dataframe tbody tr th:only-of-type {\n",
       "        vertical-align: middle;\n",
       "    }\n",
       "\n",
       "    .dataframe tbody tr th {\n",
       "        vertical-align: top;\n",
       "    }\n",
       "\n",
       "    .dataframe thead th {\n",
       "        text-align: right;\n",
       "    }\n",
       "</style>\n",
       "<table border=\"1\" class=\"dataframe\">\n",
       "  <thead>\n",
       "    <tr style=\"text-align: right;\">\n",
       "      <th></th>\n",
       "      <th>date_stamp</th>\n",
       "      <th>time_stamp</th>\n",
       "      <th>evnt_stamp</th>\n",
       "      <th>user_id</th>\n",
       "      <th>item_id</th>\n",
       "      <th>evt_type</th>\n",
       "      <th>session_id</th>\n",
       "    </tr>\n",
       "  </thead>\n",
       "  <tbody>\n",
       "    <tr>\n",
       "      <th>0</th>\n",
       "      <td>2023-07-25</td>\n",
       "      <td>2023-07-25 13:00:00</td>\n",
       "      <td>1690291720</td>\n",
       "      <td>24473.0</td>\n",
       "      <td>ab1419f7-6789-4d2a-ae0a-b6ffcc58adfd</td>\n",
       "      <td>view</td>\n",
       "      <td>29e43e40-44cf-4f79-9b0d-076f3cb66c43</td>\n",
       "    </tr>\n",
       "    <tr>\n",
       "      <th>1</th>\n",
       "      <td>2023-07-25</td>\n",
       "      <td>2023-07-25 13:00:00</td>\n",
       "      <td>1690291725</td>\n",
       "      <td>24473.0</td>\n",
       "      <td>1a0f6282-8874-432c-813a-a8daa3021e55</td>\n",
       "      <td>view</td>\n",
       "      <td>29e43e40-44cf-4f79-9b0d-076f3cb66c43</td>\n",
       "    </tr>\n",
       "    <tr>\n",
       "      <th>2</th>\n",
       "      <td>2023-07-25</td>\n",
       "      <td>2023-07-25 13:00:00</td>\n",
       "      <td>1690291725</td>\n",
       "      <td>24473.0</td>\n",
       "      <td>fd760756-961b-4e12-8d75-090902e74921</td>\n",
       "      <td>view</td>\n",
       "      <td>29e43e40-44cf-4f79-9b0d-076f3cb66c43</td>\n",
       "    </tr>\n",
       "    <tr>\n",
       "      <th>3</th>\n",
       "      <td>2023-07-25</td>\n",
       "      <td>2023-07-25 13:00:00</td>\n",
       "      <td>1690291725</td>\n",
       "      <td>24473.0</td>\n",
       "      <td>None</td>\n",
       "      <td>stop</td>\n",
       "      <td>29e43e40-44cf-4f79-9b0d-076f3cb66c43</td>\n",
       "    </tr>\n",
       "    <tr>\n",
       "      <th>4</th>\n",
       "      <td>2023-07-25</td>\n",
       "      <td>2023-07-25 13:00:00</td>\n",
       "      <td>1690291729</td>\n",
       "      <td>19301.0</td>\n",
       "      <td>f1b4453a-1048-46a2-9d54-bd37571a7e6f</td>\n",
       "      <td>view</td>\n",
       "      <td>c18e3c3e-a5c1-4f9a-b78e-f9a104ded275</td>\n",
       "    </tr>\n",
       "  </tbody>\n",
       "</table>\n",
       "</div>"
      ],
      "text/plain": [
       "   date_stamp          time_stamp  evnt_stamp  user_id  \\\n",
       "0  2023-07-25 2023-07-25 13:00:00  1690291720  24473.0   \n",
       "1  2023-07-25 2023-07-25 13:00:00  1690291725  24473.0   \n",
       "2  2023-07-25 2023-07-25 13:00:00  1690291725  24473.0   \n",
       "3  2023-07-25 2023-07-25 13:00:00  1690291725  24473.0   \n",
       "4  2023-07-25 2023-07-25 13:00:00  1690291729  19301.0   \n",
       "\n",
       "                                item_id evt_type  \\\n",
       "0  ab1419f7-6789-4d2a-ae0a-b6ffcc58adfd     view   \n",
       "1  1a0f6282-8874-432c-813a-a8daa3021e55     view   \n",
       "2  fd760756-961b-4e12-8d75-090902e74921     view   \n",
       "3                                  None     stop   \n",
       "4  f1b4453a-1048-46a2-9d54-bd37571a7e6f     view   \n",
       "\n",
       "                             session_id  \n",
       "0  29e43e40-44cf-4f79-9b0d-076f3cb66c43  \n",
       "1  29e43e40-44cf-4f79-9b0d-076f3cb66c43  \n",
       "2  29e43e40-44cf-4f79-9b0d-076f3cb66c43  \n",
       "3  29e43e40-44cf-4f79-9b0d-076f3cb66c43  \n",
       "4  c18e3c3e-a5c1-4f9a-b78e-f9a104ded275  "
      ]
     },
     "execution_count": 143,
     "metadata": {},
     "output_type": "execute_result"
    }
   ],
   "source": [
    "fct_df = pd.read_sql(get_fct_query, db_uri)\n",
    "fct_df.head()"
   ]
  },
  {
   "cell_type": "code",
   "execution_count": 144,
   "metadata": {},
   "outputs": [
    {
     "data": {
      "text/html": [
       "<div>\n",
       "<style scoped>\n",
       "    .dataframe tbody tr th:only-of-type {\n",
       "        vertical-align: middle;\n",
       "    }\n",
       "\n",
       "    .dataframe tbody tr th {\n",
       "        vertical-align: top;\n",
       "    }\n",
       "\n",
       "    .dataframe thead th {\n",
       "        text-align: right;\n",
       "    }\n",
       "</style>\n",
       "<table border=\"1\" class=\"dataframe\">\n",
       "  <thead>\n",
       "    <tr style=\"text-align: right;\">\n",
       "      <th></th>\n",
       "      <th>item_id</th>\n",
       "      <th>views_count</th>\n",
       "    </tr>\n",
       "  </thead>\n",
       "  <tbody>\n",
       "    <tr>\n",
       "      <th>0</th>\n",
       "      <td>00029807-6732-4750-8de3-397174e6a79c</td>\n",
       "      <td>1</td>\n",
       "    </tr>\n",
       "    <tr>\n",
       "      <th>1</th>\n",
       "      <td>0002c87a-604a-44f3-a003-1379ca1eed86</td>\n",
       "      <td>2</td>\n",
       "    </tr>\n",
       "    <tr>\n",
       "      <th>2</th>\n",
       "      <td>00030cae-5f09-4cc7-8e89-049ffaa61983</td>\n",
       "      <td>1</td>\n",
       "    </tr>\n",
       "    <tr>\n",
       "      <th>3</th>\n",
       "      <td>0007a513-4b29-4529-b001-43e78a7ba195</td>\n",
       "      <td>1</td>\n",
       "    </tr>\n",
       "    <tr>\n",
       "      <th>4</th>\n",
       "      <td>000ab8dd-71c7-4b56-93b4-3d3f7e513541</td>\n",
       "      <td>1</td>\n",
       "    </tr>\n",
       "  </tbody>\n",
       "</table>\n",
       "</div>"
      ],
      "text/plain": [
       "                                item_id  views_count\n",
       "0  00029807-6732-4750-8de3-397174e6a79c            1\n",
       "1  0002c87a-604a-44f3-a003-1379ca1eed86            2\n",
       "2  00030cae-5f09-4cc7-8e89-049ffaa61983            1\n",
       "3  0007a513-4b29-4529-b001-43e78a7ba195            1\n",
       "4  000ab8dd-71c7-4b56-93b4-3d3f7e513541            1"
      ]
     },
     "execution_count": 144,
     "metadata": {},
     "output_type": "execute_result"
    }
   ],
   "source": [
    "view_frequency_query = \"SELECT item_id, COUNT(*) as views_count FROM fct_hourly_metric WHERE evt_type = 'view' GROUP BY item_id;\"\n",
    "df_view_frequency = pd.read_sql(view_frequency_query, db_uri)\n",
    "df_view_frequency.head()\n"
   ]
  },
  {
   "cell_type": "code",
   "execution_count": 145,
   "metadata": {},
   "outputs": [
    {
     "name": "stdout",
     "output_type": "stream",
     "text": [
      "(17133, 2)\n"
     ]
    },
    {
     "data": {
      "text/html": [
       "<div>\n",
       "<style scoped>\n",
       "    .dataframe tbody tr th:only-of-type {\n",
       "        vertical-align: middle;\n",
       "    }\n",
       "\n",
       "    .dataframe tbody tr th {\n",
       "        vertical-align: top;\n",
       "    }\n",
       "\n",
       "    .dataframe thead th {\n",
       "        text-align: right;\n",
       "    }\n",
       "</style>\n",
       "<table border=\"1\" class=\"dataframe\">\n",
       "  <thead>\n",
       "    <tr style=\"text-align: right;\">\n",
       "      <th></th>\n",
       "      <th>views_count</th>\n",
       "    </tr>\n",
       "  </thead>\n",
       "  <tbody>\n",
       "    <tr>\n",
       "      <th>count</th>\n",
       "      <td>17133.000000</td>\n",
       "    </tr>\n",
       "    <tr>\n",
       "      <th>mean</th>\n",
       "      <td>1.061752</td>\n",
       "    </tr>\n",
       "    <tr>\n",
       "      <th>std</th>\n",
       "      <td>0.254158</td>\n",
       "    </tr>\n",
       "    <tr>\n",
       "      <th>min</th>\n",
       "      <td>1.000000</td>\n",
       "    </tr>\n",
       "    <tr>\n",
       "      <th>25%</th>\n",
       "      <td>1.000000</td>\n",
       "    </tr>\n",
       "    <tr>\n",
       "      <th>50%</th>\n",
       "      <td>1.000000</td>\n",
       "    </tr>\n",
       "    <tr>\n",
       "      <th>75%</th>\n",
       "      <td>1.000000</td>\n",
       "    </tr>\n",
       "    <tr>\n",
       "      <th>max</th>\n",
       "      <td>4.000000</td>\n",
       "    </tr>\n",
       "  </tbody>\n",
       "</table>\n",
       "</div>"
      ],
      "text/plain": [
       "        views_count\n",
       "count  17133.000000\n",
       "mean       1.061752\n",
       "std        0.254158\n",
       "min        1.000000\n",
       "25%        1.000000\n",
       "50%        1.000000\n",
       "75%        1.000000\n",
       "max        4.000000"
      ]
     },
     "execution_count": 145,
     "metadata": {},
     "output_type": "execute_result"
    }
   ],
   "source": [
    "print(df_view_frequency.shape)\n",
    "df_view_frequency.describe()"
   ]
  },
  {
   "cell_type": "code",
   "execution_count": 146,
   "metadata": {},
   "outputs": [
    {
     "data": {
      "text/html": [
       "<div>\n",
       "<style scoped>\n",
       "    .dataframe tbody tr th:only-of-type {\n",
       "        vertical-align: middle;\n",
       "    }\n",
       "\n",
       "    .dataframe tbody tr th {\n",
       "        vertical-align: top;\n",
       "    }\n",
       "\n",
       "    .dataframe thead th {\n",
       "        text-align: right;\n",
       "    }\n",
       "</style>\n",
       "<table border=\"1\" class=\"dataframe\">\n",
       "  <thead>\n",
       "    <tr style=\"text-align: right;\">\n",
       "      <th></th>\n",
       "      <th>count</th>\n",
       "    </tr>\n",
       "  </thead>\n",
       "  <tbody>\n",
       "    <tr>\n",
       "      <th>0</th>\n",
       "      <td>4</td>\n",
       "    </tr>\n",
       "  </tbody>\n",
       "</table>\n",
       "</div>"
      ],
      "text/plain": [
       "   count\n",
       "0      4"
      ]
     },
     "execution_count": 146,
     "metadata": {},
     "output_type": "execute_result"
    }
   ],
   "source": [
    "items_check_query = \"SELECT COUNT(*) FROM fct_hourly_metric WHERE evt_type = 'view' AND item_id = 'd2777c58-1474-4891-b195-0bcb2ac37f56';\"\n",
    "df_items_check = pd.read_sql(items_check_query, db_uri)\n",
    "df_items_check.head()"
   ]
  },
  {
   "cell_type": "markdown",
   "metadata": {},
   "source": [
    "We have confirmed that the maximum"
   ]
  },
  {
   "cell_type": "code",
   "execution_count": 169,
   "metadata": {},
   "outputs": [
    {
     "name": "stdout",
     "output_type": "stream",
     "text": [
      "[1 2 3 4]\n"
     ]
    },
    {
     "name": "stderr",
     "output_type": "stream",
     "text": [
      "/var/folders/0y/d_717f6d3wv7j3stmqzgt9_c0000gp/T/ipykernel_65740/957434070.py:5: UserWarning: FixedFormatter should only be used together with FixedLocator\n",
      "  ax.set_xticklabels(ax.get_xticks(), fontdict={'horizontalalignment': 'center'})\n"
     ]
    },
    {
     "data": {
      "image/png": "[encoded data removed]",
      "text/plain": [
       "<Figure size 640x480 with 1 Axes>"
      ]
     },
     "metadata": {},
     "output_type": "display_data"
    }
   ],
   "source": [
    "ax = df_view_frequency.plot.hist(x='item_id',y='views_count', bins=np.arange(df_view_frequency['views_count'].min(), df_view_frequency['views_count'].max()+2))\n",
    "\n",
    "print(np.arange(df_view_frequency['views_count'].min(), df_view_frequency['views_count'].max()+1, 1))\n",
    "ax = plt.gca()\n",
    "ax.set_xticklabels(ax.get_xticks(), fontdict={'horizontalalignment': 'center'})\n",
    "plt.ylabel('Item frequency')\n",
    "plt.xlabel('Number of views')\n",
    "plt.title('Item Views Frequency Distribution')\n",
    "plt.show()"
   ]
  },
  {
   "cell_type": "code",
   "execution_count": null,
   "metadata": {},
   "outputs": [],
   "source": []
  }
 ],
 "metadata": {
  "kernelspec": {
   "display_name": "Python 3 (ipykernel)",
   "language": "python",
   "name": "python3"
  },
  "language_info": {
   "codemirror_mode": {
    "name": "ipython",
    "version": 3
   },
   "file_extension": ".py",
   "mimetype": "text/x-python",
   "name": "python",
   "nbconvert_exporter": "python",
   "pygments_lexer": "ipython3",
   "version": "3.11.3"
  }
 },
 "nbformat": 4,
 "nbformat_minor": 4
}
